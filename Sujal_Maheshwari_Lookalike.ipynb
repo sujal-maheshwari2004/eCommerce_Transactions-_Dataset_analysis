{
 "cells": [
  {
   "cell_type": "markdown",
   "metadata": {},
   "source": [
    "# Importing Necessary Dependencies"
   ]
  },
  {
   "cell_type": "code",
   "execution_count": 1,
   "metadata": {},
   "outputs": [],
   "source": [
    "import pandas as pd\n",
    "from sklearn.metrics.pairwise import cosine_similarity\n",
    "from sklearn.preprocessing import StandardScaler"
   ]
  },
  {
   "cell_type": "markdown",
   "metadata": {},
   "source": [
    "# Load the data"
   ]
  },
  {
   "cell_type": "code",
   "execution_count": 2,
   "metadata": {},
   "outputs": [],
   "source": [
    "\n",
    "customers = pd.read_csv(\"./data/Customers.csv\")\n",
    "products = pd.read_csv(\"./data/Products.csv\")\n",
    "transactions = pd.read_csv(\"./data/Transactions.csv\")"
   ]
  },
  {
   "cell_type": "markdown",
   "metadata": {},
   "source": [
    "# Merge data to create a unified dataset"
   ]
  },
  {
   "cell_type": "code",
   "execution_count": 3,
   "metadata": {},
   "outputs": [],
   "source": [
    "transactions = transactions.merge(products, on=\"ProductID\", how=\"left\")\n",
    "transactions = transactions.merge(customers, on=\"CustomerID\", how=\"left\")"
   ]
  },
  {
   "cell_type": "markdown",
   "metadata": {},
   "source": [
    "# Feature Engineering"
   ]
  },
  {
   "cell_type": "markdown",
   "metadata": {},
   "source": [
    "### Aggregate transaction data to customer level"
   ]
  },
  {
   "cell_type": "code",
   "execution_count": 4,
   "metadata": {},
   "outputs": [],
   "source": [
    "customer_features = transactions.groupby(\"CustomerID\").agg(\n",
    "    total_spent=(\"TotalValue\", \"sum\"),\n",
    "    total_transactions=(\"TransactionID\", \"count\"),\n",
    "    avg_transaction_value=(\"TotalValue\", \"mean\"),\n",
    "    distinct_products=(\"ProductID\", \"nunique\"),\n",
    "    most_frequent_category=(\"Category\", lambda x: x.mode()[0]),\n",
    ").reset_index()"
   ]
  },
  {
   "cell_type": "markdown",
   "metadata": {},
   "source": [
    "### Encode categorical features (e.g., Region, most_frequent_category)"
   ]
  },
  {
   "cell_type": "code",
   "execution_count": 5,
   "metadata": {},
   "outputs": [],
   "source": [
    "customer_features = customer_features.merge(customers[[\"CustomerID\", \"Region\"]], on=\"CustomerID\", how=\"left\")\n",
    "customer_features = pd.get_dummies(customer_features, columns=[\"Region\", \"most_frequent_category\"], drop_first=True)"
   ]
  },
  {
   "cell_type": "markdown",
   "metadata": {},
   "source": [
    "# Standardize the features"
   ]
  },
  {
   "cell_type": "code",
   "execution_count": 6,
   "metadata": {},
   "outputs": [],
   "source": [
    "scaler = StandardScaler()\n",
    "features = customer_features.drop(columns=[\"CustomerID\"])\n",
    "scaled_features = scaler.fit_transform(features)"
   ]
  },
  {
   "cell_type": "markdown",
   "metadata": {},
   "source": [
    "# Calculate similarity using Cosine Similarity"
   ]
  },
  {
   "cell_type": "code",
   "execution_count": 7,
   "metadata": {},
   "outputs": [],
   "source": [
    "similarity_matrix = cosine_similarity(scaled_features)"
   ]
  },
  {
   "cell_type": "markdown",
   "metadata": {},
   "source": [
    "# Generate Lookalike Recommendations"
   ]
  },
  {
   "cell_type": "code",
   "execution_count": 8,
   "metadata": {},
   "outputs": [],
   "source": [
    "lookalike_results = {}\n",
    "customer_ids = customer_features[\"CustomerID\"].values\n",
    "\n",
    "for idx, customer_id in enumerate(customer_ids[:20]):  \n",
    "    similarity_scores = list(enumerate(similarity_matrix[idx]))\n",
    "    similarity_scores = sorted(similarity_scores, key=lambda x: x[1], reverse=True)  \n",
    "    top_lookalikes = [\n",
    "        (customer_ids[i], score) for i, score in similarity_scores[1:4]\n",
    "    ]\n",
    "    lookalike_results[customer_id] = top_lookalikes"
   ]
  },
  {
   "cell_type": "markdown",
   "metadata": {},
   "source": [
    "# Save results to Lookalike.csv\n"
   ]
  },
  {
   "cell_type": "code",
   "execution_count": 9,
   "metadata": {},
   "outputs": [
    {
     "name": "stdout",
     "output_type": "stream",
     "text": [
      "Lookalike.csv generated with top 3 similar customers for C0001-C0020.\n"
     ]
    }
   ],
   "source": [
    "lookalike_df = pd.DataFrame([\n",
    "    {\n",
    "        \"CustomerID\": customer_id,\n",
    "        \"Lookalikes\": str([(lookalike[0], round(lookalike[1], 2)) for lookalike in lookalikes])\n",
    "    }\n",
    "    for customer_id, lookalikes in lookalike_results.items()\n",
    "])\n",
    "\n",
    "lookalike_df.to_csv(\"Sujal_Maheshwari_Lookalike.csv\", index=False)\n",
    "\n",
    "print(\"Lookalike.csv generated with top 3 similar customers for C0001-C0020.\")"
   ]
  }
 ],
 "metadata": {
  "kernelspec": {
   "display_name": "Python 3",
   "language": "python",
   "name": "python3"
  },
  "language_info": {
   "codemirror_mode": {
    "name": "ipython",
    "version": 3
   },
   "file_extension": ".py",
   "mimetype": "text/x-python",
   "name": "python",
   "nbconvert_exporter": "python",
   "pygments_lexer": "ipython3",
   "version": "3.12.4"
  }
 },
 "nbformat": 4,
 "nbformat_minor": 2
}
